{
  "cells": [
    {
      "cell_type": "code",
      "execution_count": 1,
      "id": "6f36e6a1",
      "metadata": {
        "id": "6f36e6a1"
      },
      "outputs": [],
      "source": [
        "import numpy as np\n",
        "import pandas as pd\n",
        "from sklearn.feature_extraction.text import CountVectorizer\n",
        "from sklearn.metrics.pairwise import cosine_similarity\n",
        "import joblib\n"
      ]
    },
    {
      "cell_type": "code",
      "execution_count": 2,
      "id": "7e3ad6b0",
      "metadata": {
        "scrolled": true,
        "colab": {
          "base_uri": "https://localhost:8080/",
          "height": 1000
        },
        "id": "7e3ad6b0",
        "outputId": "9de44503-9ba7-4707-aae2-93079905c429"
      },
      "outputs": [
        {
          "output_type": "execute_result",
          "data": {
            "text/plain": [
              "                       director_name     actor_1_name        actor_2_name  \\\n",
              "0                       Greta Gerwig    Margot Robbie        Ryan Gosling   \n",
              "1     Aaron Horvath, Michael Jelenic      Chris Pratt     Anya Taylor-Joy   \n",
              "2                  Christopher Nolan   Cillian Murphy         Emily Blunt   \n",
              "3                         James Gunn      Chris Pratt         Zoe Saldaña   \n",
              "4                    Louis Leterrier       Vin Diesel  Michelle Rodriguez   \n",
              "...                              ...              ...                 ...   \n",
              "3389   Alan Smithee Michael Gottlieb     Cheech Marin          Emma Samms   \n",
              "3390               Frank Henenlotter     James Lorinz        Patty Mullen   \n",
              "3391                    Wong Kar-wai         Andy Lau       Leslie Cheung   \n",
              "3392                        Joe Roth  Patrick Dempsey          Arye Gross   \n",
              "3393                  Mark Griffiths    Jared Rushton          Ned Beatty   \n",
              "\n",
              "           actor_3_name                                     genres  \\\n",
              "0       America Ferrera                           Comedy Adventure   \n",
              "1           Charlie Day  Animation Family Adventure Fantasy Comedy   \n",
              "2            Matt Damon                              Drama History   \n",
              "3         Dave Bautista                    Sci-Fi Adventure Action   \n",
              "4         Tyrese Gibson                      Action Crime Thriller   \n",
              "...                 ...                                        ...   \n",
              "3389     Gary McCormick                             Comedy Romance   \n",
              "3390     Joanne Ritchie                       Comedy Horror Sci-Fi   \n",
              "3391      Maggie Cheung                        Crime Drama Romance   \n",
              "3392       Daniel Stern                               Comedy Drama   \n",
              "3393  Pamela Sue Martin                               Drama Family   \n",
              "\n",
              "                         movie_title  movie_id    year       revenue  \\\n",
              "0                             Barbie  346698.0  2023.0  1.445638e+09   \n",
              "1        The Super Mario Bros. Movie  502356.0  2023.0  1.362000e+09   \n",
              "2                        Oppenheimer  872585.0  2023.0  9.520000e+08   \n",
              "3     Guardians of the Galaxy Vol. 3  447365.0  2023.0  8.456000e+08   \n",
              "4                             Fast X  385687.0  2023.0  7.047097e+08   \n",
              "...                              ...       ...     ...           ...   \n",
              "3389            Shrimp on the Barbie   34564.0  1990.0  4.589960e+05   \n",
              "3390                   Frankenhooker   27274.0  1990.0  2.050680e+05   \n",
              "3391              Days of Being Wild   18311.0  1990.0  1.418640e+05   \n",
              "3392                  Coupe de Ville   39062.0  1990.0  7.150000e+02   \n",
              "3393               A Cry in the Wild   25373.0  1990.0  1.000000e+00   \n",
              "\n",
              "                                                   comb  \n",
              "0     Margot Robbie Ryan Gosling America Ferrera Gre...  \n",
              "1     Chris Pratt Anya Taylor-Joy Charlie Day Aaron ...  \n",
              "2     Cillian Murphy Emily Blunt Matt Damon Christop...  \n",
              "3     Chris Pratt Zoe Saldaña Dave Bautista James Gu...  \n",
              "4     Vin Diesel Michelle Rodriguez Tyrese Gibson Lo...  \n",
              "...                                                 ...  \n",
              "3389  Cheech Marin Emma Samms Gary McCormick Alan Sm...  \n",
              "3390  James Lorinz Patty Mullen Joanne Ritchie Frank...  \n",
              "3391  Andy Lau Leslie Cheung Maggie Cheung Wong Kar-...  \n",
              "3392  Patrick Dempsey Arye Gross Daniel Stern Joe Ro...  \n",
              "3393  Jared Rushton Ned Beatty Pamela Sue Martin Mar...  \n",
              "\n",
              "[3394 rows x 10 columns]"
            ],
            "text/html": [
              "\n",
              "  <div id=\"df-887549e5-415b-44c0-995f-a907ac163e16\" class=\"colab-df-container\">\n",
              "    <div>\n",
              "<style scoped>\n",
              "    .dataframe tbody tr th:only-of-type {\n",
              "        vertical-align: middle;\n",
              "    }\n",
              "\n",
              "    .dataframe tbody tr th {\n",
              "        vertical-align: top;\n",
              "    }\n",
              "\n",
              "    .dataframe thead th {\n",
              "        text-align: right;\n",
              "    }\n",
              "</style>\n",
              "<table border=\"1\" class=\"dataframe\">\n",
              "  <thead>\n",
              "    <tr style=\"text-align: right;\">\n",
              "      <th></th>\n",
              "      <th>director_name</th>\n",
              "      <th>actor_1_name</th>\n",
              "      <th>actor_2_name</th>\n",
              "      <th>actor_3_name</th>\n",
              "      <th>genres</th>\n",
              "      <th>movie_title</th>\n",
              "      <th>movie_id</th>\n",
              "      <th>year</th>\n",
              "      <th>revenue</th>\n",
              "      <th>comb</th>\n",
              "    </tr>\n",
              "  </thead>\n",
              "  <tbody>\n",
              "    <tr>\n",
              "      <th>0</th>\n",
              "      <td>Greta Gerwig</td>\n",
              "      <td>Margot Robbie</td>\n",
              "      <td>Ryan Gosling</td>\n",
              "      <td>America Ferrera</td>\n",
              "      <td>Comedy Adventure</td>\n",
              "      <td>Barbie</td>\n",
              "      <td>346698.0</td>\n",
              "      <td>2023.0</td>\n",
              "      <td>1.445638e+09</td>\n",
              "      <td>Margot Robbie Ryan Gosling America Ferrera Gre...</td>\n",
              "    </tr>\n",
              "    <tr>\n",
              "      <th>1</th>\n",
              "      <td>Aaron Horvath, Michael Jelenic</td>\n",
              "      <td>Chris Pratt</td>\n",
              "      <td>Anya Taylor-Joy</td>\n",
              "      <td>Charlie Day</td>\n",
              "      <td>Animation Family Adventure Fantasy Comedy</td>\n",
              "      <td>The Super Mario Bros. Movie</td>\n",
              "      <td>502356.0</td>\n",
              "      <td>2023.0</td>\n",
              "      <td>1.362000e+09</td>\n",
              "      <td>Chris Pratt Anya Taylor-Joy Charlie Day Aaron ...</td>\n",
              "    </tr>\n",
              "    <tr>\n",
              "      <th>2</th>\n",
              "      <td>Christopher Nolan</td>\n",
              "      <td>Cillian Murphy</td>\n",
              "      <td>Emily Blunt</td>\n",
              "      <td>Matt Damon</td>\n",
              "      <td>Drama History</td>\n",
              "      <td>Oppenheimer</td>\n",
              "      <td>872585.0</td>\n",
              "      <td>2023.0</td>\n",
              "      <td>9.520000e+08</td>\n",
              "      <td>Cillian Murphy Emily Blunt Matt Damon Christop...</td>\n",
              "    </tr>\n",
              "    <tr>\n",
              "      <th>3</th>\n",
              "      <td>James Gunn</td>\n",
              "      <td>Chris Pratt</td>\n",
              "      <td>Zoe Saldaña</td>\n",
              "      <td>Dave Bautista</td>\n",
              "      <td>Sci-Fi Adventure Action</td>\n",
              "      <td>Guardians of the Galaxy Vol. 3</td>\n",
              "      <td>447365.0</td>\n",
              "      <td>2023.0</td>\n",
              "      <td>8.456000e+08</td>\n",
              "      <td>Chris Pratt Zoe Saldaña Dave Bautista James Gu...</td>\n",
              "    </tr>\n",
              "    <tr>\n",
              "      <th>4</th>\n",
              "      <td>Louis Leterrier</td>\n",
              "      <td>Vin Diesel</td>\n",
              "      <td>Michelle Rodriguez</td>\n",
              "      <td>Tyrese Gibson</td>\n",
              "      <td>Action Crime Thriller</td>\n",
              "      <td>Fast X</td>\n",
              "      <td>385687.0</td>\n",
              "      <td>2023.0</td>\n",
              "      <td>7.047097e+08</td>\n",
              "      <td>Vin Diesel Michelle Rodriguez Tyrese Gibson Lo...</td>\n",
              "    </tr>\n",
              "    <tr>\n",
              "      <th>...</th>\n",
              "      <td>...</td>\n",
              "      <td>...</td>\n",
              "      <td>...</td>\n",
              "      <td>...</td>\n",
              "      <td>...</td>\n",
              "      <td>...</td>\n",
              "      <td>...</td>\n",
              "      <td>...</td>\n",
              "      <td>...</td>\n",
              "      <td>...</td>\n",
              "    </tr>\n",
              "    <tr>\n",
              "      <th>3389</th>\n",
              "      <td>Alan Smithee Michael Gottlieb</td>\n",
              "      <td>Cheech Marin</td>\n",
              "      <td>Emma Samms</td>\n",
              "      <td>Gary McCormick</td>\n",
              "      <td>Comedy Romance</td>\n",
              "      <td>Shrimp on the Barbie</td>\n",
              "      <td>34564.0</td>\n",
              "      <td>1990.0</td>\n",
              "      <td>4.589960e+05</td>\n",
              "      <td>Cheech Marin Emma Samms Gary McCormick Alan Sm...</td>\n",
              "    </tr>\n",
              "    <tr>\n",
              "      <th>3390</th>\n",
              "      <td>Frank Henenlotter</td>\n",
              "      <td>James Lorinz</td>\n",
              "      <td>Patty Mullen</td>\n",
              "      <td>Joanne Ritchie</td>\n",
              "      <td>Comedy Horror Sci-Fi</td>\n",
              "      <td>Frankenhooker</td>\n",
              "      <td>27274.0</td>\n",
              "      <td>1990.0</td>\n",
              "      <td>2.050680e+05</td>\n",
              "      <td>James Lorinz Patty Mullen Joanne Ritchie Frank...</td>\n",
              "    </tr>\n",
              "    <tr>\n",
              "      <th>3391</th>\n",
              "      <td>Wong Kar-wai</td>\n",
              "      <td>Andy Lau</td>\n",
              "      <td>Leslie Cheung</td>\n",
              "      <td>Maggie Cheung</td>\n",
              "      <td>Crime Drama Romance</td>\n",
              "      <td>Days of Being Wild</td>\n",
              "      <td>18311.0</td>\n",
              "      <td>1990.0</td>\n",
              "      <td>1.418640e+05</td>\n",
              "      <td>Andy Lau Leslie Cheung Maggie Cheung Wong Kar-...</td>\n",
              "    </tr>\n",
              "    <tr>\n",
              "      <th>3392</th>\n",
              "      <td>Joe Roth</td>\n",
              "      <td>Patrick Dempsey</td>\n",
              "      <td>Arye Gross</td>\n",
              "      <td>Daniel Stern</td>\n",
              "      <td>Comedy Drama</td>\n",
              "      <td>Coupe de Ville</td>\n",
              "      <td>39062.0</td>\n",
              "      <td>1990.0</td>\n",
              "      <td>7.150000e+02</td>\n",
              "      <td>Patrick Dempsey Arye Gross Daniel Stern Joe Ro...</td>\n",
              "    </tr>\n",
              "    <tr>\n",
              "      <th>3393</th>\n",
              "      <td>Mark Griffiths</td>\n",
              "      <td>Jared Rushton</td>\n",
              "      <td>Ned Beatty</td>\n",
              "      <td>Pamela Sue Martin</td>\n",
              "      <td>Drama Family</td>\n",
              "      <td>A Cry in the Wild</td>\n",
              "      <td>25373.0</td>\n",
              "      <td>1990.0</td>\n",
              "      <td>1.000000e+00</td>\n",
              "      <td>Jared Rushton Ned Beatty Pamela Sue Martin Mar...</td>\n",
              "    </tr>\n",
              "  </tbody>\n",
              "</table>\n",
              "<p>3394 rows × 10 columns</p>\n",
              "</div>\n",
              "    <div class=\"colab-df-buttons\">\n",
              "\n",
              "  <div class=\"colab-df-container\">\n",
              "    <button class=\"colab-df-convert\" onclick=\"convertToInteractive('df-887549e5-415b-44c0-995f-a907ac163e16')\"\n",
              "            title=\"Convert this dataframe to an interactive table.\"\n",
              "            style=\"display:none;\">\n",
              "\n",
              "  <svg xmlns=\"http://www.w3.org/2000/svg\" height=\"24px\" viewBox=\"0 -960 960 960\">\n",
              "    <path d=\"M120-120v-720h720v720H120Zm60-500h600v-160H180v160Zm220 220h160v-160H400v160Zm0 220h160v-160H400v160ZM180-400h160v-160H180v160Zm440 0h160v-160H620v160ZM180-180h160v-160H180v160Zm440 0h160v-160H620v160Z\"/>\n",
              "  </svg>\n",
              "    </button>\n",
              "\n",
              "  <style>\n",
              "    .colab-df-container {\n",
              "      display:flex;\n",
              "      gap: 12px;\n",
              "    }\n",
              "\n",
              "    .colab-df-convert {\n",
              "      background-color: #E8F0FE;\n",
              "      border: none;\n",
              "      border-radius: 50%;\n",
              "      cursor: pointer;\n",
              "      display: none;\n",
              "      fill: #1967D2;\n",
              "      height: 32px;\n",
              "      padding: 0 0 0 0;\n",
              "      width: 32px;\n",
              "    }\n",
              "\n",
              "    .colab-df-convert:hover {\n",
              "      background-color: #E2EBFA;\n",
              "      box-shadow: 0px 1px 2px rgba(60, 64, 67, 0.3), 0px 1px 3px 1px rgba(60, 64, 67, 0.15);\n",
              "      fill: #174EA6;\n",
              "    }\n",
              "\n",
              "    .colab-df-buttons div {\n",
              "      margin-bottom: 4px;\n",
              "    }\n",
              "\n",
              "    [theme=dark] .colab-df-convert {\n",
              "      background-color: #3B4455;\n",
              "      fill: #D2E3FC;\n",
              "    }\n",
              "\n",
              "    [theme=dark] .colab-df-convert:hover {\n",
              "      background-color: #434B5C;\n",
              "      box-shadow: 0px 1px 3px 1px rgba(0, 0, 0, 0.15);\n",
              "      filter: drop-shadow(0px 1px 2px rgba(0, 0, 0, 0.3));\n",
              "      fill: #FFFFFF;\n",
              "    }\n",
              "  </style>\n",
              "\n",
              "    <script>\n",
              "      const buttonEl =\n",
              "        document.querySelector('#df-887549e5-415b-44c0-995f-a907ac163e16 button.colab-df-convert');\n",
              "      buttonEl.style.display =\n",
              "        google.colab.kernel.accessAllowed ? 'block' : 'none';\n",
              "\n",
              "      async function convertToInteractive(key) {\n",
              "        const element = document.querySelector('#df-887549e5-415b-44c0-995f-a907ac163e16');\n",
              "        const dataTable =\n",
              "          await google.colab.kernel.invokeFunction('convertToInteractive',\n",
              "                                                    [key], {});\n",
              "        if (!dataTable) return;\n",
              "\n",
              "        const docLinkHtml = 'Like what you see? Visit the ' +\n",
              "          '<a target=\"_blank\" href=https://colab.research.google.com/notebooks/data_table.ipynb>data table notebook</a>'\n",
              "          + ' to learn more about interactive tables.';\n",
              "        element.innerHTML = '';\n",
              "        dataTable['output_type'] = 'display_data';\n",
              "        await google.colab.output.renderOutput(dataTable, element);\n",
              "        const docLink = document.createElement('div');\n",
              "        docLink.innerHTML = docLinkHtml;\n",
              "        element.appendChild(docLink);\n",
              "      }\n",
              "    </script>\n",
              "  </div>\n",
              "\n",
              "\n",
              "<div id=\"df-3e58c0e9-811b-4663-934d-ab46af4a6110\">\n",
              "  <button class=\"colab-df-quickchart\" onclick=\"quickchart('df-3e58c0e9-811b-4663-934d-ab46af4a6110')\"\n",
              "            title=\"Suggest charts\"\n",
              "            style=\"display:none;\">\n",
              "\n",
              "<svg xmlns=\"http://www.w3.org/2000/svg\" height=\"24px\"viewBox=\"0 0 24 24\"\n",
              "     width=\"24px\">\n",
              "    <g>\n",
              "        <path d=\"M19 3H5c-1.1 0-2 .9-2 2v14c0 1.1.9 2 2 2h14c1.1 0 2-.9 2-2V5c0-1.1-.9-2-2-2zM9 17H7v-7h2v7zm4 0h-2V7h2v10zm4 0h-2v-4h2v4z\"/>\n",
              "    </g>\n",
              "</svg>\n",
              "  </button>\n",
              "\n",
              "<style>\n",
              "  .colab-df-quickchart {\n",
              "      --bg-color: #E8F0FE;\n",
              "      --fill-color: #1967D2;\n",
              "      --hover-bg-color: #E2EBFA;\n",
              "      --hover-fill-color: #174EA6;\n",
              "      --disabled-fill-color: #AAA;\n",
              "      --disabled-bg-color: #DDD;\n",
              "  }\n",
              "\n",
              "  [theme=dark] .colab-df-quickchart {\n",
              "      --bg-color: #3B4455;\n",
              "      --fill-color: #D2E3FC;\n",
              "      --hover-bg-color: #434B5C;\n",
              "      --hover-fill-color: #FFFFFF;\n",
              "      --disabled-bg-color: #3B4455;\n",
              "      --disabled-fill-color: #666;\n",
              "  }\n",
              "\n",
              "  .colab-df-quickchart {\n",
              "    background-color: var(--bg-color);\n",
              "    border: none;\n",
              "    border-radius: 50%;\n",
              "    cursor: pointer;\n",
              "    display: none;\n",
              "    fill: var(--fill-color);\n",
              "    height: 32px;\n",
              "    padding: 0;\n",
              "    width: 32px;\n",
              "  }\n",
              "\n",
              "  .colab-df-quickchart:hover {\n",
              "    background-color: var(--hover-bg-color);\n",
              "    box-shadow: 0 1px 2px rgba(60, 64, 67, 0.3), 0 1px 3px 1px rgba(60, 64, 67, 0.15);\n",
              "    fill: var(--button-hover-fill-color);\n",
              "  }\n",
              "\n",
              "  .colab-df-quickchart-complete:disabled,\n",
              "  .colab-df-quickchart-complete:disabled:hover {\n",
              "    background-color: var(--disabled-bg-color);\n",
              "    fill: var(--disabled-fill-color);\n",
              "    box-shadow: none;\n",
              "  }\n",
              "\n",
              "  .colab-df-spinner {\n",
              "    border: 2px solid var(--fill-color);\n",
              "    border-color: transparent;\n",
              "    border-bottom-color: var(--fill-color);\n",
              "    animation:\n",
              "      spin 1s steps(1) infinite;\n",
              "  }\n",
              "\n",
              "  @keyframes spin {\n",
              "    0% {\n",
              "      border-color: transparent;\n",
              "      border-bottom-color: var(--fill-color);\n",
              "      border-left-color: var(--fill-color);\n",
              "    }\n",
              "    20% {\n",
              "      border-color: transparent;\n",
              "      border-left-color: var(--fill-color);\n",
              "      border-top-color: var(--fill-color);\n",
              "    }\n",
              "    30% {\n",
              "      border-color: transparent;\n",
              "      border-left-color: var(--fill-color);\n",
              "      border-top-color: var(--fill-color);\n",
              "      border-right-color: var(--fill-color);\n",
              "    }\n",
              "    40% {\n",
              "      border-color: transparent;\n",
              "      border-right-color: var(--fill-color);\n",
              "      border-top-color: var(--fill-color);\n",
              "    }\n",
              "    60% {\n",
              "      border-color: transparent;\n",
              "      border-right-color: var(--fill-color);\n",
              "    }\n",
              "    80% {\n",
              "      border-color: transparent;\n",
              "      border-right-color: var(--fill-color);\n",
              "      border-bottom-color: var(--fill-color);\n",
              "    }\n",
              "    90% {\n",
              "      border-color: transparent;\n",
              "      border-bottom-color: var(--fill-color);\n",
              "    }\n",
              "  }\n",
              "</style>\n",
              "\n",
              "  <script>\n",
              "    async function quickchart(key) {\n",
              "      const quickchartButtonEl =\n",
              "        document.querySelector('#' + key + ' button');\n",
              "      quickchartButtonEl.disabled = true;  // To prevent multiple clicks.\n",
              "      quickchartButtonEl.classList.add('colab-df-spinner');\n",
              "      try {\n",
              "        const charts = await google.colab.kernel.invokeFunction(\n",
              "            'suggestCharts', [key], {});\n",
              "      } catch (error) {\n",
              "        console.error('Error during call to suggestCharts:', error);\n",
              "      }\n",
              "      quickchartButtonEl.classList.remove('colab-df-spinner');\n",
              "      quickchartButtonEl.classList.add('colab-df-quickchart-complete');\n",
              "    }\n",
              "    (() => {\n",
              "      let quickchartButtonEl =\n",
              "        document.querySelector('#df-3e58c0e9-811b-4663-934d-ab46af4a6110 button');\n",
              "      quickchartButtonEl.style.display =\n",
              "        google.colab.kernel.accessAllowed ? 'block' : 'none';\n",
              "    })();\n",
              "  </script>\n",
              "</div>\n",
              "\n",
              "  <div id=\"id_093c50ab-8fd9-4c8d-8f6d-9c097cfe2065\">\n",
              "    <style>\n",
              "      .colab-df-generate {\n",
              "        background-color: #E8F0FE;\n",
              "        border: none;\n",
              "        border-radius: 50%;\n",
              "        cursor: pointer;\n",
              "        display: none;\n",
              "        fill: #1967D2;\n",
              "        height: 32px;\n",
              "        padding: 0 0 0 0;\n",
              "        width: 32px;\n",
              "      }\n",
              "\n",
              "      .colab-df-generate:hover {\n",
              "        background-color: #E2EBFA;\n",
              "        box-shadow: 0px 1px 2px rgba(60, 64, 67, 0.3), 0px 1px 3px 1px rgba(60, 64, 67, 0.15);\n",
              "        fill: #174EA6;\n",
              "      }\n",
              "\n",
              "      [theme=dark] .colab-df-generate {\n",
              "        background-color: #3B4455;\n",
              "        fill: #D2E3FC;\n",
              "      }\n",
              "\n",
              "      [theme=dark] .colab-df-generate:hover {\n",
              "        background-color: #434B5C;\n",
              "        box-shadow: 0px 1px 3px 1px rgba(0, 0, 0, 0.15);\n",
              "        filter: drop-shadow(0px 1px 2px rgba(0, 0, 0, 0.3));\n",
              "        fill: #FFFFFF;\n",
              "      }\n",
              "    </style>\n",
              "    <button class=\"colab-df-generate\" onclick=\"generateWithVariable('new_df')\"\n",
              "            title=\"Generate code using this dataframe.\"\n",
              "            style=\"display:none;\">\n",
              "\n",
              "  <svg xmlns=\"http://www.w3.org/2000/svg\" height=\"24px\"viewBox=\"0 0 24 24\"\n",
              "       width=\"24px\">\n",
              "    <path d=\"M7,19H8.4L18.45,9,17,7.55,7,17.6ZM5,21V16.75L18.45,3.32a2,2,0,0,1,2.83,0l1.4,1.43a1.91,1.91,0,0,1,.58,1.4,1.91,1.91,0,0,1-.58,1.4L9.25,21ZM18.45,9,17,7.55Zm-12,3A5.31,5.31,0,0,0,4.9,8.1,5.31,5.31,0,0,0,1,6.5,5.31,5.31,0,0,0,4.9,4.9,5.31,5.31,0,0,0,6.5,1,5.31,5.31,0,0,0,8.1,4.9,5.31,5.31,0,0,0,12,6.5,5.46,5.46,0,0,0,6.5,12Z\"/>\n",
              "  </svg>\n",
              "    </button>\n",
              "    <script>\n",
              "      (() => {\n",
              "      const buttonEl =\n",
              "        document.querySelector('#id_093c50ab-8fd9-4c8d-8f6d-9c097cfe2065 button.colab-df-generate');\n",
              "      buttonEl.style.display =\n",
              "        google.colab.kernel.accessAllowed ? 'block' : 'none';\n",
              "\n",
              "      buttonEl.onclick = () => {\n",
              "        google.colab.notebook.generateWithVariable('new_df');\n",
              "      }\n",
              "      })();\n",
              "    </script>\n",
              "  </div>\n",
              "\n",
              "    </div>\n",
              "  </div>\n"
            ],
            "application/vnd.google.colaboratory.intrinsic+json": {
              "type": "dataframe",
              "variable_name": "new_df",
              "summary": "{\n  \"name\": \"new_df\",\n  \"rows\": 3394,\n  \"fields\": [\n    {\n      \"column\": \"director_name\",\n      \"properties\": {\n        \"dtype\": \"category\",\n        \"num_unique_values\": 1563,\n        \"samples\": [\n          \"Marc Webb\",\n          \"Deon Taylor\",\n          \"Adam Rifkin\"\n        ],\n        \"semantic_type\": \"\",\n        \"description\": \"\"\n      }\n    },\n    {\n      \"column\": \"actor_1_name\",\n      \"properties\": {\n        \"dtype\": \"category\",\n        \"num_unique_values\": 1294,\n        \"samples\": [\n          \"Elizabeth Lail\",\n          \"Ji Guanlin\",\n          \"Junichi Okada\"\n        ],\n        \"semantic_type\": \"\",\n        \"description\": \"\"\n      }\n    },\n    {\n      \"column\": \"actor_2_name\",\n      \"properties\": {\n        \"dtype\": \"string\",\n        \"num_unique_values\": 1829,\n        \"samples\": [\n          \"Jason O'Mara\",\n          \"Kristen Wilson\",\n          \"Darren McGavin\"\n        ],\n        \"semantic_type\": \"\",\n        \"description\": \"\"\n      }\n    },\n    {\n      \"column\": \"actor_3_name\",\n      \"properties\": {\n        \"dtype\": \"string\",\n        \"num_unique_values\": 2195,\n        \"samples\": [\n          \"Jake Schur\",\n          \"John C. Reilly\",\n          \"Xander Berkeley\"\n        ],\n        \"semantic_type\": \"\",\n        \"description\": \"\"\n      }\n    },\n    {\n      \"column\": \"genres\",\n      \"properties\": {\n        \"dtype\": \"category\",\n        \"num_unique_values\": 1027,\n        \"samples\": [\n          \"Fantasy Action Adventure Animation Comedy Family\",\n          \"Thriller Action Mystery\",\n          \"Romance Fantasy Family Drama\"\n        ],\n        \"semantic_type\": \"\",\n        \"description\": \"\"\n      }\n    },\n    {\n      \"column\": \"movie_title\",\n      \"properties\": {\n        \"dtype\": \"string\",\n        \"num_unique_values\": 3394,\n        \"samples\": [\n          \"Playing God\",\n          \"Magic in the Moonlight\",\n          \"Sinbad: Legend of the Seven Seas\"\n        ],\n        \"semantic_type\": \"\",\n        \"description\": \"\"\n      }\n    },\n    {\n      \"column\": \"movie_id\",\n      \"properties\": {\n        \"dtype\": \"number\",\n        \"std\": 223555.75854004952,\n        \"min\": 5.0,\n        \"max\": 1108658.0,\n        \"num_unique_values\": 3387,\n        \"samples\": [\n          585216.0,\n          77877.0,\n          603.0\n        ],\n        \"semantic_type\": \"\",\n        \"description\": \"\"\n      }\n    },\n    {\n      \"column\": \"year\",\n      \"properties\": {\n        \"dtype\": \"number\",\n        \"std\": 9.796238417745823,\n        \"min\": 1990.0,\n        \"max\": 2023.0,\n        \"num_unique_values\": 34,\n        \"samples\": [\n          2008.0,\n          2004.0,\n          1996.0\n        ],\n        \"semantic_type\": \"\",\n        \"description\": \"\"\n      }\n    },\n    {\n      \"column\": \"revenue\",\n      \"properties\": {\n        \"dtype\": \"number\",\n        \"std\": 227744468.39882398,\n        \"min\": 1.0,\n        \"max\": 2800000000.0,\n        \"num_unique_values\": 3320,\n        \"samples\": [\n          310669540.0,\n          55707411.0,\n          7240837.0\n        ],\n        \"semantic_type\": \"\",\n        \"description\": \"\"\n      }\n    },\n    {\n      \"column\": \"comb\",\n      \"properties\": {\n        \"dtype\": \"string\",\n        \"num_unique_values\": 3375,\n        \"samples\": [\n          \"Sally Field Kevin Kline Robert Downey Jr. Michael Hoffman Comedy Drama Romance\",\n          \"Choi Min-sik Kim Myung-gon Ryu Seung-ryong Kim Han-min Adventure War\",\n          \"Hugh Grant Tara Fitzgerald Sam Neill John Duigan Comedy Drama\"\n        ],\n        \"semantic_type\": \"\",\n        \"description\": \"\"\n      }\n    }\n  ]\n}"
            }
          },
          "metadata": {},
          "execution_count": 2
        }
      ],
      "source": [
        "new_df = pd.read_csv('Final_movie_data.csv')\n",
        "new_df"
      ]
    },
    {
      "cell_type": "code",
      "execution_count": 3,
      "id": "5e7afca6",
      "metadata": {
        "colab": {
          "base_uri": "https://localhost:8080/"
        },
        "id": "5e7afca6",
        "outputId": "d3e2d67f-9eb2-4025-a983-aa2e5c742484"
      },
      "outputs": [
        {
          "output_type": "execute_result",
          "data": {
            "text/plain": [
              "Index(['director_name', 'actor_1_name', 'actor_2_name', 'actor_3_name',\n",
              "       'genres', 'movie_title', 'movie_id', 'year', 'revenue', 'comb'],\n",
              "      dtype='object')"
            ]
          },
          "metadata": {},
          "execution_count": 3
        }
      ],
      "source": [
        "new_df.columns"
      ]
    },
    {
      "cell_type": "code",
      "execution_count": 4,
      "id": "635dc36a",
      "metadata": {
        "id": "635dc36a"
      },
      "outputs": [],
      "source": [
        "cv = CountVectorizer()\n",
        "vectors = cv.fit_transform(new_df['comb'])"
      ]
    },
    {
      "cell_type": "code",
      "execution_count": 5,
      "id": "9828f078",
      "metadata": {
        "id": "9828f078"
      },
      "outputs": [],
      "source": [
        "similarity = cosine_similarity(vectors)"
      ]
    },
    {
      "cell_type": "code",
      "execution_count": 6,
      "id": "802f3538",
      "metadata": {
        "colab": {
          "base_uri": "https://localhost:8080/"
        },
        "id": "802f3538",
        "outputId": "cf830416-6343-4928-a630-642092fe9316"
      },
      "outputs": [
        {
          "output_type": "execute_result",
          "data": {
            "text/plain": [
              "(3394,)"
            ]
          },
          "metadata": {},
          "execution_count": 6
        }
      ],
      "source": [
        "similarity[1].shape"
      ]
    },
    {
      "cell_type": "code",
      "execution_count": 7,
      "id": "3f23831b",
      "metadata": {
        "colab": {
          "base_uri": "https://localhost:8080/"
        },
        "id": "3f23831b",
        "outputId": "ae00c4c3-e0a2-499a-bc10-c5bf70062a82"
      },
      "outputs": [
        {
          "output_type": "execute_result",
          "data": {
            "text/plain": [
              "[(219, 0.38138503569823695),\n",
              " (1597, 0.3651483716701108),\n",
              " (143, 0.30000000000000004),\n",
              " (666, 0.30000000000000004),\n",
              " (679, 0.30000000000000004),\n",
              " (721, 0.30000000000000004),\n",
              " (848, 0.30000000000000004),\n",
              " (1896, 0.30000000000000004)]"
            ]
          },
          "metadata": {},
          "execution_count": 7
        }
      ],
      "source": [
        "sorted(list(enumerate(similarity[0])),reverse=True, key=lambda x: x[1])[1:9]"
      ]
    },
    {
      "cell_type": "code",
      "execution_count": 8,
      "id": "9adeba16",
      "metadata": {
        "id": "9adeba16"
      },
      "outputs": [],
      "source": [
        "def recommend(movie):\n",
        "    index = new_df[new_df['movie_title'] == movie].index[0]\n",
        "    distances = similarity[index]\n",
        "    movie_list = sorted(list(enumerate(distances)),reverse=True,key = lambda x: x[1])[1:10]\n",
        "    for i in movie_list:\n",
        "        print(new_df.iloc[i[0]].movie_title)"
      ]
    },
    {
      "cell_type": "code",
      "execution_count": 9,
      "id": "cf0fd9e4",
      "metadata": {
        "colab": {
          "base_uri": "https://localhost:8080/",
          "height": 36
        },
        "id": "cf0fd9e4",
        "outputId": "cf35c574-db76-4c50-eb56-710b674ce580"
      },
      "outputs": [
        {
          "output_type": "execute_result",
          "data": {
            "text/plain": [
              "'The Super Mario Bros. Movie'"
            ],
            "application/vnd.google.colaboratory.intrinsic+json": {
              "type": "string"
            }
          },
          "metadata": {},
          "execution_count": 9
        }
      ],
      "source": [
        "new_df.iloc[1].movie_title"
      ]
    },
    {
      "cell_type": "code",
      "execution_count": 10,
      "id": "5bb3a9a9",
      "metadata": {
        "colab": {
          "base_uri": "https://localhost:8080/"
        },
        "id": "5bb3a9a9",
        "outputId": "7f664fda-d415-4d2f-8845-245081a1c610"
      },
      "outputs": [
        {
          "output_type": "stream",
          "name": "stdout",
          "text": [
            "Harry Potter and the Philosopher's Stone\n",
            "Harry Potter and the Deathly Hallows: Part 2\n",
            "Harry Potter and the Deathly Hallows: Part 1\n",
            "Harry Potter and the Half-Blood Prince\n",
            "Harry Potter and the Goblet of Fire\n",
            "Harry Potter and the Prisoner of Azkaban\n",
            "Harry Potter and the Order of the Phoenix\n",
            "Percy Jackson & the Olympians: The Lightning Thief\n",
            "Home Alone\n"
          ]
        }
      ],
      "source": [
        "recommend(\"Harry Potter and the Chamber of Secrets\")"
      ]
    },
    {
      "cell_type": "code",
      "execution_count": 11,
      "id": "d294fe0c",
      "metadata": {
        "colab": {
          "base_uri": "https://localhost:8080/"
        },
        "id": "d294fe0c",
        "outputId": "6b7eb02f-4d26-4b83-adfa-a5eeba17844f"
      },
      "outputs": [
        {
          "output_type": "execute_result",
          "data": {
            "text/plain": [
              "['movies.pkl']"
            ]
          },
          "metadata": {},
          "execution_count": 11
        }
      ],
      "source": [
        "joblib.dump(new_df, 'movies.pkl')"
      ]
    },
    {
      "cell_type": "code",
      "execution_count": 12,
      "id": "1bd36e0f",
      "metadata": {
        "colab": {
          "base_uri": "https://localhost:8080/"
        },
        "id": "1bd36e0f",
        "outputId": "6b26d38f-a376-4ea2-f7a3-462873839c99"
      },
      "outputs": [
        {
          "output_type": "execute_result",
          "data": {
            "text/plain": [
              "['similarity.pkl']"
            ]
          },
          "metadata": {},
          "execution_count": 12
        }
      ],
      "source": [
        "# joblib.dump(similarity, 'similarity.pkl')"
      ]
    },
    {
      "cell_type": "code",
      "execution_count": 12,
      "id": "49f5b6d6",
      "metadata": {
        "id": "49f5b6d6"
      },
      "outputs": [],
      "source": []
    }
  ],
  "metadata": {
    "kernelspec": {
      "display_name": "Python 3 (ipykernel)",
      "language": "python",
      "name": "python3"
    },
    "language_info": {
      "codemirror_mode": {
        "name": "ipython",
        "version": 3
      },
      "file_extension": ".py",
      "mimetype": "text/x-python",
      "name": "python",
      "nbconvert_exporter": "python",
      "pygments_lexer": "ipython3",
      "version": "3.9.12"
    },
    "colab": {
      "provenance": []
    }
  },
  "nbformat": 4,
  "nbformat_minor": 5
}